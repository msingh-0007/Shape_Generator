{
  "cells": [
    {
      "cell_type": "markdown",
      "metadata": {
        "id": "view-in-github",
        "colab_type": "text"
      },
      "source": [
        "<a href=\"https://colab.research.google.com/github/msingh-0007/Shape_Generator/blob/main/Manjit_HW4.ipynb\" target=\"_parent\"><img src=\"https://colab.research.google.com/assets/colab-badge.svg\" alt=\"Open In Colab\"/></a>"
      ]
    },
    {
      "cell_type": "markdown",
      "id": "36198da5",
      "metadata": {
        "id": "36198da5"
      },
      "source": [
        "# Imports and pip installations (if needed)"
      ]
    },
    {
      "cell_type": "code",
      "execution_count": null,
      "id": "b083200f",
      "metadata": {
        "id": "b083200f"
      },
      "outputs": [],
      "source": [
        "import pandas as pd\n",
        "import numpy as np\n",
        "from sklearn.model_selection import train_test_split\n",
        "from sklearn.linear_model import LinearRegression\n",
        "from sklearn.model_selection import cross_val_score\n",
        "from sklearn import svm\n",
        "from sklearn import datasets\n",
        "from sklearn.preprocessing import PolynomialFeatures\n",
        "from sklearn.linear_model import Perceptron\n",
        "from sklearn.linear_model import LogisticRegression\n",
        "from sklearn.neural_network import MLPClassifier\n",
        "from sklearn.datasets import make_classification\n",
        "from sklearn.neighbors import KNeighborsClassifier"
      ]
    },
    {
      "cell_type": "markdown",
      "id": "abdd042f",
      "metadata": {
        "id": "abdd042f"
      },
      "source": [
        "# Load the dataset (load remotely, not locally)\n",
        "\n",
        "# Output the first 15 rows of the data\n",
        "# Display a summary of the table information (number of datapoints, etc.)"
      ]
    },
    {
      "cell_type": "code",
      "execution_count": null,
      "id": "ff227b89",
      "metadata": {
        "id": "ff227b89",
        "outputId": "4ca36939-42b0-4a05-f63d-bfa910cfc929"
      },
      "outputs": [
        {
          "data": {
            "text/html": [
              "<div>\n",
              "<style scoped>\n",
              "    .dataframe tbody tr th:only-of-type {\n",
              "        vertical-align: middle;\n",
              "    }\n",
              "\n",
              "    .dataframe tbody tr th {\n",
              "        vertical-align: top;\n",
              "    }\n",
              "\n",
              "    .dataframe thead th {\n",
              "        text-align: right;\n",
              "    }\n",
              "</style>\n",
              "<table border=\"1\" class=\"dataframe\">\n",
              "  <thead>\n",
              "    <tr style=\"text-align: right;\">\n",
              "      <th></th>\n",
              "      <th>sepal.length</th>\n",
              "      <th>sepal.width</th>\n",
              "      <th>petal.length</th>\n",
              "      <th>petal.width</th>\n",
              "      <th>variety</th>\n",
              "    </tr>\n",
              "  </thead>\n",
              "  <tbody>\n",
              "    <tr>\n",
              "      <th>0</th>\n",
              "      <td>5.1</td>\n",
              "      <td>3.5</td>\n",
              "      <td>1.4</td>\n",
              "      <td>0.2</td>\n",
              "      <td>Setosa</td>\n",
              "    </tr>\n",
              "    <tr>\n",
              "      <th>1</th>\n",
              "      <td>4.9</td>\n",
              "      <td>3.0</td>\n",
              "      <td>1.4</td>\n",
              "      <td>0.2</td>\n",
              "      <td>Setosa</td>\n",
              "    </tr>\n",
              "    <tr>\n",
              "      <th>2</th>\n",
              "      <td>4.7</td>\n",
              "      <td>3.2</td>\n",
              "      <td>1.3</td>\n",
              "      <td>0.2</td>\n",
              "      <td>Setosa</td>\n",
              "    </tr>\n",
              "    <tr>\n",
              "      <th>3</th>\n",
              "      <td>4.6</td>\n",
              "      <td>3.1</td>\n",
              "      <td>1.5</td>\n",
              "      <td>0.2</td>\n",
              "      <td>Setosa</td>\n",
              "    </tr>\n",
              "    <tr>\n",
              "      <th>4</th>\n",
              "      <td>5.0</td>\n",
              "      <td>3.6</td>\n",
              "      <td>1.4</td>\n",
              "      <td>0.2</td>\n",
              "      <td>Setosa</td>\n",
              "    </tr>\n",
              "    <tr>\n",
              "      <th>5</th>\n",
              "      <td>5.4</td>\n",
              "      <td>3.9</td>\n",
              "      <td>1.7</td>\n",
              "      <td>0.4</td>\n",
              "      <td>Setosa</td>\n",
              "    </tr>\n",
              "    <tr>\n",
              "      <th>6</th>\n",
              "      <td>4.6</td>\n",
              "      <td>3.4</td>\n",
              "      <td>1.4</td>\n",
              "      <td>0.3</td>\n",
              "      <td>Setosa</td>\n",
              "    </tr>\n",
              "    <tr>\n",
              "      <th>7</th>\n",
              "      <td>5.0</td>\n",
              "      <td>3.4</td>\n",
              "      <td>1.5</td>\n",
              "      <td>0.2</td>\n",
              "      <td>Setosa</td>\n",
              "    </tr>\n",
              "    <tr>\n",
              "      <th>8</th>\n",
              "      <td>4.4</td>\n",
              "      <td>2.9</td>\n",
              "      <td>1.4</td>\n",
              "      <td>0.2</td>\n",
              "      <td>Setosa</td>\n",
              "    </tr>\n",
              "    <tr>\n",
              "      <th>9</th>\n",
              "      <td>4.9</td>\n",
              "      <td>3.1</td>\n",
              "      <td>1.5</td>\n",
              "      <td>0.1</td>\n",
              "      <td>Setosa</td>\n",
              "    </tr>\n",
              "    <tr>\n",
              "      <th>10</th>\n",
              "      <td>5.4</td>\n",
              "      <td>3.7</td>\n",
              "      <td>1.5</td>\n",
              "      <td>0.2</td>\n",
              "      <td>Setosa</td>\n",
              "    </tr>\n",
              "    <tr>\n",
              "      <th>11</th>\n",
              "      <td>4.8</td>\n",
              "      <td>3.4</td>\n",
              "      <td>1.6</td>\n",
              "      <td>0.2</td>\n",
              "      <td>Setosa</td>\n",
              "    </tr>\n",
              "    <tr>\n",
              "      <th>12</th>\n",
              "      <td>4.8</td>\n",
              "      <td>3.0</td>\n",
              "      <td>1.4</td>\n",
              "      <td>0.1</td>\n",
              "      <td>Setosa</td>\n",
              "    </tr>\n",
              "    <tr>\n",
              "      <th>13</th>\n",
              "      <td>4.3</td>\n",
              "      <td>3.0</td>\n",
              "      <td>1.1</td>\n",
              "      <td>0.1</td>\n",
              "      <td>Setosa</td>\n",
              "    </tr>\n",
              "    <tr>\n",
              "      <th>14</th>\n",
              "      <td>5.8</td>\n",
              "      <td>4.0</td>\n",
              "      <td>1.2</td>\n",
              "      <td>0.2</td>\n",
              "      <td>Setosa</td>\n",
              "    </tr>\n",
              "  </tbody>\n",
              "</table>\n",
              "</div>"
            ],
            "text/plain": [
              "    sepal.length  sepal.width  petal.length  petal.width variety\n",
              "0            5.1          3.5           1.4          0.2  Setosa\n",
              "1            4.9          3.0           1.4          0.2  Setosa\n",
              "2            4.7          3.2           1.3          0.2  Setosa\n",
              "3            4.6          3.1           1.5          0.2  Setosa\n",
              "4            5.0          3.6           1.4          0.2  Setosa\n",
              "5            5.4          3.9           1.7          0.4  Setosa\n",
              "6            4.6          3.4           1.4          0.3  Setosa\n",
              "7            5.0          3.4           1.5          0.2  Setosa\n",
              "8            4.4          2.9           1.4          0.2  Setosa\n",
              "9            4.9          3.1           1.5          0.1  Setosa\n",
              "10           5.4          3.7           1.5          0.2  Setosa\n",
              "11           4.8          3.4           1.6          0.2  Setosa\n",
              "12           4.8          3.0           1.4          0.1  Setosa\n",
              "13           4.3          3.0           1.1          0.1  Setosa\n",
              "14           5.8          4.0           1.2          0.2  Setosa"
            ]
          },
          "execution_count": 10,
          "metadata": {},
          "output_type": "execute_result"
        }
      ],
      "source": [
        "Iris = pd.read_csv(\"https://gist.githubusercontent.com/netj/8836201/raw/6f9306ad21398ea43cba4f7d537619d0e07d5ae3/iris.csv\")\n",
        "Iris.head(15)"
      ]
    },
    {
      "cell_type": "markdown",
      "id": "0212d03d",
      "metadata": {
        "id": "0212d03d"
      },
      "source": [
        "First 15 of the Iris Dataset from the github site"
      ]
    },
    {
      "cell_type": "code",
      "execution_count": null,
      "id": "c310ebbf",
      "metadata": {
        "id": "c310ebbf",
        "outputId": "2f655197-514b-4987-80d1-69a77197f66d"
      },
      "outputs": [
        {
          "name": "stdout",
          "output_type": "stream",
          "text": [
            "<class 'pandas.core.frame.DataFrame'>\n",
            "RangeIndex: 150 entries, 0 to 149\n",
            "Data columns (total 5 columns):\n",
            " #   Column        Non-Null Count  Dtype  \n",
            "---  ------        --------------  -----  \n",
            " 0   sepal.length  150 non-null    float64\n",
            " 1   sepal.width   150 non-null    float64\n",
            " 2   petal.length  150 non-null    float64\n",
            " 3   petal.width   150 non-null    float64\n",
            " 4   variety       150 non-null    object \n",
            "dtypes: float64(4), object(1)\n",
            "memory usage: 6.0+ KB\n"
          ]
        }
      ],
      "source": [
        "Iris.info()"
      ]
    },
    {
      "cell_type": "markdown",
      "id": "c5454aef",
      "metadata": {
        "id": "c5454aef"
      },
      "source": [
        "Summary of the Iris Dataset"
      ]
    },
    {
      "cell_type": "markdown",
      "id": "59c129d5",
      "metadata": {
        "id": "59c129d5"
      },
      "source": [
        "# Take the dataset and split it into our features (X) and label (y)\n",
        "\n",
        "# Use sklearn to split the features and labels into a training/test set. (90% train, 10% test)"
      ]
    },
    {
      "cell_type": "code",
      "execution_count": null,
      "id": "72204d62",
      "metadata": {
        "id": "72204d62"
      },
      "outputs": [],
      "source": [
        "X = Iris[[\"sepal.length\",\"sepal.width\",\"petal.length\",\"petal.width\"]]\n",
        "y = Iris[\"variety\"]\n",
        "X_train, X_test, Y_train, Y_test=train_test_split(X,y,test_size=0.1,train_size=0.9)"
      ]
    },
    {
      "cell_type": "markdown",
      "id": "9bc7ac9d",
      "metadata": {
        "id": "9bc7ac9d"
      },
      "source": [
        "Test Split 90% Training, 10% Testing"
      ]
    },
    {
      "cell_type": "markdown",
      "id": "ac7425fa",
      "metadata": {
        "id": "ac7425fa"
      },
      "source": [
        "# i. Use sklearn to train a LogisticRegression model on the training set\n",
        "\n",
        "# ii. For a sample datapoint, predict the probabilities for each possible class\n",
        "\n",
        "# iii. Report on the score for Logistic regression model, what does the score measure?\n",
        "\n",
        "# iv. Extract the coefficents and intercepts for the boundary line(s)"
      ]
    },
    {
      "cell_type": "code",
      "execution_count": null,
      "id": "742ea2d3",
      "metadata": {
        "id": "742ea2d3"
      },
      "outputs": [],
      "source": [
        "clf = LogisticRegression(random_state=0, max_iter = 200).fit(X_train,Y_train)\n",
        "                                            "
      ]
    },
    {
      "cell_type": "code",
      "execution_count": null,
      "id": "bf694b2f",
      "metadata": {
        "id": "bf694b2f",
        "outputId": "6bb6c5ce-2c2a-4f44-d362-e3afa566a939"
      },
      "outputs": [
        {
          "data": {
            "text/html": [
              "<div>\n",
              "<style scoped>\n",
              "    .dataframe tbody tr th:only-of-type {\n",
              "        vertical-align: middle;\n",
              "    }\n",
              "\n",
              "    .dataframe tbody tr th {\n",
              "        vertical-align: top;\n",
              "    }\n",
              "\n",
              "    .dataframe thead th {\n",
              "        text-align: right;\n",
              "    }\n",
              "</style>\n",
              "<table border=\"1\" class=\"dataframe\">\n",
              "  <thead>\n",
              "    <tr style=\"text-align: right;\">\n",
              "      <th></th>\n",
              "      <th>sepal.length</th>\n",
              "      <th>sepal.width</th>\n",
              "      <th>petal.length</th>\n",
              "      <th>petal.width</th>\n",
              "    </tr>\n",
              "  </thead>\n",
              "  <tbody>\n",
              "    <tr>\n",
              "      <th>58</th>\n",
              "      <td>6.6</td>\n",
              "      <td>2.9</td>\n",
              "      <td>4.6</td>\n",
              "      <td>1.3</td>\n",
              "    </tr>\n",
              "    <tr>\n",
              "      <th>37</th>\n",
              "      <td>4.9</td>\n",
              "      <td>3.6</td>\n",
              "      <td>1.4</td>\n",
              "      <td>0.1</td>\n",
              "    </tr>\n",
              "    <tr>\n",
              "      <th>111</th>\n",
              "      <td>6.4</td>\n",
              "      <td>2.7</td>\n",
              "      <td>5.3</td>\n",
              "      <td>1.9</td>\n",
              "    </tr>\n",
              "    <tr>\n",
              "      <th>105</th>\n",
              "      <td>7.6</td>\n",
              "      <td>3.0</td>\n",
              "      <td>6.6</td>\n",
              "      <td>2.1</td>\n",
              "    </tr>\n",
              "    <tr>\n",
              "      <th>40</th>\n",
              "      <td>5.0</td>\n",
              "      <td>3.5</td>\n",
              "      <td>1.3</td>\n",
              "      <td>0.3</td>\n",
              "    </tr>\n",
              "    <tr>\n",
              "      <th>4</th>\n",
              "      <td>5.0</td>\n",
              "      <td>3.6</td>\n",
              "      <td>1.4</td>\n",
              "      <td>0.2</td>\n",
              "    </tr>\n",
              "    <tr>\n",
              "      <th>67</th>\n",
              "      <td>5.8</td>\n",
              "      <td>2.7</td>\n",
              "      <td>4.1</td>\n",
              "      <td>1.0</td>\n",
              "    </tr>\n",
              "    <tr>\n",
              "      <th>56</th>\n",
              "      <td>6.3</td>\n",
              "      <td>3.3</td>\n",
              "      <td>4.7</td>\n",
              "      <td>1.6</td>\n",
              "    </tr>\n",
              "    <tr>\n",
              "      <th>49</th>\n",
              "      <td>5.0</td>\n",
              "      <td>3.3</td>\n",
              "      <td>1.4</td>\n",
              "      <td>0.2</td>\n",
              "    </tr>\n",
              "    <tr>\n",
              "      <th>79</th>\n",
              "      <td>5.7</td>\n",
              "      <td>2.6</td>\n",
              "      <td>3.5</td>\n",
              "      <td>1.0</td>\n",
              "    </tr>\n",
              "    <tr>\n",
              "      <th>73</th>\n",
              "      <td>6.1</td>\n",
              "      <td>2.8</td>\n",
              "      <td>4.7</td>\n",
              "      <td>1.2</td>\n",
              "    </tr>\n",
              "    <tr>\n",
              "      <th>127</th>\n",
              "      <td>6.1</td>\n",
              "      <td>3.0</td>\n",
              "      <td>4.9</td>\n",
              "      <td>1.8</td>\n",
              "    </tr>\n",
              "    <tr>\n",
              "      <th>96</th>\n",
              "      <td>5.7</td>\n",
              "      <td>2.9</td>\n",
              "      <td>4.2</td>\n",
              "      <td>1.3</td>\n",
              "    </tr>\n",
              "    <tr>\n",
              "      <th>15</th>\n",
              "      <td>5.7</td>\n",
              "      <td>4.4</td>\n",
              "      <td>1.5</td>\n",
              "      <td>0.4</td>\n",
              "    </tr>\n",
              "    <tr>\n",
              "      <th>68</th>\n",
              "      <td>6.2</td>\n",
              "      <td>2.2</td>\n",
              "      <td>4.5</td>\n",
              "      <td>1.5</td>\n",
              "    </tr>\n",
              "  </tbody>\n",
              "</table>\n",
              "</div>"
            ],
            "text/plain": [
              "     sepal.length  sepal.width  petal.length  petal.width\n",
              "58            6.6          2.9           4.6          1.3\n",
              "37            4.9          3.6           1.4          0.1\n",
              "111           6.4          2.7           5.3          1.9\n",
              "105           7.6          3.0           6.6          2.1\n",
              "40            5.0          3.5           1.3          0.3\n",
              "4             5.0          3.6           1.4          0.2\n",
              "67            5.8          2.7           4.1          1.0\n",
              "56            6.3          3.3           4.7          1.6\n",
              "49            5.0          3.3           1.4          0.2\n",
              "79            5.7          2.6           3.5          1.0\n",
              "73            6.1          2.8           4.7          1.2\n",
              "127           6.1          3.0           4.9          1.8\n",
              "96            5.7          2.9           4.2          1.3\n",
              "15            5.7          4.4           1.5          0.4\n",
              "68            6.2          2.2           4.5          1.5"
            ]
          },
          "execution_count": 172,
          "metadata": {},
          "output_type": "execute_result"
        }
      ],
      "source": [
        "X_test"
      ]
    },
    {
      "cell_type": "markdown",
      "id": "7ae47e44",
      "metadata": {
        "id": "7ae47e44"
      },
      "source": [
        "Training LogisticRegression Model, and using the Top test value as our sample datapoint"
      ]
    },
    {
      "cell_type": "code",
      "execution_count": null,
      "id": "2dcfac39",
      "metadata": {
        "id": "2dcfac39",
        "outputId": "f902fc01-c331-4c37-8021-c5414135ea38"
      },
      "outputs": [
        {
          "data": {
            "text/plain": [
              "array(['Setosa', 'Versicolor', 'Virginica'], dtype=object)"
            ]
          },
          "execution_count": 151,
          "metadata": {},
          "output_type": "execute_result"
        }
      ],
      "source": [
        "clf.classes_"
      ]
    },
    {
      "cell_type": "markdown",
      "id": "6e046992",
      "metadata": {
        "id": "6e046992"
      },
      "source": [
        "Showing how the classes are arranged, and then their associated probabilities"
      ]
    },
    {
      "cell_type": "code",
      "execution_count": null,
      "id": "10db0aee",
      "metadata": {
        "id": "10db0aee",
        "outputId": "75e0eae5-d5fd-47bf-97da-a695d81b52fa"
      },
      "outputs": [
        {
          "data": {
            "text/plain": [
              "array([[0.00334818, 0.88016954, 0.11648227]])"
            ]
          },
          "execution_count": 173,
          "metadata": {},
          "output_type": "execute_result"
        }
      ],
      "source": [
        "clf.predict_proba(X_test.head(1))"
      ]
    },
    {
      "cell_type": "code",
      "execution_count": null,
      "id": "a8299378",
      "metadata": {
        "id": "a8299378",
        "outputId": "167836c5-f347-424c-d970-3e874c954398"
      },
      "outputs": [
        {
          "data": {
            "text/plain": [
              "0.9733333333333334"
            ]
          },
          "execution_count": 179,
          "metadata": {},
          "output_type": "execute_result"
        }
      ],
      "source": [
        "scores = cross_val_score(clf, X, y, cv=5)\n",
        "scores.mean()"
      ]
    },
    {
      "cell_type": "markdown",
      "id": "4b647746",
      "metadata": {
        "id": "4b647746"
      },
      "source": [
        "The Score Measures the accuracy of the Logistic Regression function, though for some odd reason the accuracy is 100% when using x_test y_test, so I had to use Cross-validation"
      ]
    },
    {
      "cell_type": "code",
      "execution_count": null,
      "id": "d442171f",
      "metadata": {
        "id": "d442171f",
        "outputId": "64303aa9-cfd7-46e7-adf1-e703078e7f1d"
      },
      "outputs": [
        {
          "data": {
            "text/plain": [
              "array([  9.48389919,   2.18275381, -11.666653  ])"
            ]
          },
          "execution_count": 180,
          "metadata": {},
          "output_type": "execute_result"
        }
      ],
      "source": [
        "clf.intercept_"
      ]
    },
    {
      "cell_type": "code",
      "execution_count": null,
      "id": "d00a003e",
      "metadata": {
        "id": "d00a003e",
        "outputId": "4d1e2807-2186-448b-ec23-a55998dcba7f"
      },
      "outputs": [
        {
          "data": {
            "text/plain": [
              "array([[-0.39437478,  0.93734093, -2.44717233, -1.0635851 ],\n",
              "       [ 0.47671034, -0.28359102, -0.18593408, -0.86151856],\n",
              "       [-0.08233556, -0.6537499 ,  2.63310641,  1.92510365]])"
            ]
          },
          "execution_count": 181,
          "metadata": {},
          "output_type": "execute_result"
        }
      ],
      "source": [
        "clf.coef_"
      ]
    },
    {
      "cell_type": "markdown",
      "id": "cb8b9bcb",
      "metadata": {
        "id": "cb8b9bcb"
      },
      "source": [
        "Intercept and Coefficient values"
      ]
    },
    {
      "cell_type": "code",
      "execution_count": null,
      "id": "28aa7579",
      "metadata": {
        "id": "28aa7579",
        "outputId": "45b6c423-5fc1-46e2-ed34-f86eb7a0f0e2"
      },
      "outputs": [
        {
          "data": {
            "text/plain": [
              "LogisticRegression(max_iter=200, random_state=0)"
            ]
          },
          "execution_count": 74,
          "metadata": {},
          "output_type": "execute_result"
        }
      ],
      "source": [
        "clf.densify()"
      ]
    },
    {
      "cell_type": "markdown",
      "id": "0fe95d92",
      "metadata": {
        "id": "0fe95d92"
      },
      "source": [
        "# i. Use sklearn to train a Support Vector Classifier on the training set\n",
        "\n",
        "# ii. For a sample datapoint, predict the probabilities for each possible class\n",
        "\n",
        "# iii. Report on the score for the SVM, what does the score measure?"
      ]
    },
    {
      "cell_type": "code",
      "execution_count": null,
      "id": "5c31ce64",
      "metadata": {
        "id": "5c31ce64",
        "outputId": "1089de3e-4b10-47c1-e7eb-9c751e4bab66"
      },
      "outputs": [
        {
          "data": {
            "text/plain": [
              "SVC(probability=True)"
            ]
          },
          "execution_count": 182,
          "metadata": {},
          "output_type": "execute_result"
        }
      ],
      "source": [
        "clf = svm.SVC(probability = True)\n",
        "clf.fit(X_train, Y_train)"
      ]
    },
    {
      "cell_type": "markdown",
      "id": "51763a71",
      "metadata": {
        "id": "51763a71"
      },
      "source": [
        "Training SVC on training set"
      ]
    },
    {
      "cell_type": "code",
      "execution_count": null,
      "id": "f3448af6",
      "metadata": {
        "id": "f3448af6",
        "outputId": "4e9a6b44-e8fb-4d70-c9f4-c7ae6c84bbe0"
      },
      "outputs": [
        {
          "data": {
            "text/plain": [
              "array([[0.00780692, 0.94681543, 0.04537766]])"
            ]
          },
          "execution_count": 183,
          "metadata": {},
          "output_type": "execute_result"
        }
      ],
      "source": [
        "clf.predict_proba(X_test.head(1))"
      ]
    },
    {
      "cell_type": "code",
      "execution_count": null,
      "id": "edcd9ffd",
      "metadata": {
        "id": "edcd9ffd",
        "outputId": "01b3037c-a859-46b0-cdcb-dd4aebc7225c"
      },
      "outputs": [
        {
          "data": {
            "text/plain": [
              "0.9666666666666666"
            ]
          },
          "execution_count": 185,
          "metadata": {},
          "output_type": "execute_result"
        }
      ],
      "source": [
        "scores = cross_val_score(clf, X, y, cv=5)\n",
        "scores.mean()"
      ]
    },
    {
      "cell_type": "markdown",
      "id": "3f974357",
      "metadata": {
        "id": "3f974357"
      },
      "source": [
        "The Score Measures the accuracy of the SVM function"
      ]
    },
    {
      "cell_type": "markdown",
      "id": "0a833468",
      "metadata": {
        "id": "0a833468"
      },
      "source": [
        "# i. Use sklearn to train a Neural Network (MLP Classifier) on the training set\n",
        "\n",
        "# ii. For a sample datapoint, predict the probabilities for each possible class\n",
        "\n",
        "# iii. Report on the score for the Neural Network, what does the score measure?\n",
        "\n",
        "# iv: Experiment with different options for the neural network, report on your best configuration (the highest score I was able to achieve was 0.8666)"
      ]
    },
    {
      "cell_type": "code",
      "execution_count": null,
      "id": "11501bec",
      "metadata": {
        "id": "11501bec"
      },
      "outputs": [],
      "source": [
        " clf = MLPClassifier(max_iter=700, activation = 'relu').fit(X_train, Y_train)"
      ]
    },
    {
      "cell_type": "markdown",
      "id": "95d5f2aa",
      "metadata": {
        "id": "95d5f2aa"
      },
      "source": [
        "Training Neural Network (MLP Classifier)"
      ]
    },
    {
      "cell_type": "code",
      "execution_count": null,
      "id": "5f28e1f6",
      "metadata": {
        "id": "5f28e1f6",
        "outputId": "7ee75dd9-277e-4641-c72f-d9f30ebc0fcc"
      },
      "outputs": [
        {
          "data": {
            "text/plain": [
              "array([[6.96096792e-04, 9.96606270e-01, 2.69763293e-03]])"
            ]
          },
          "execution_count": 220,
          "metadata": {},
          "output_type": "execute_result"
        }
      ],
      "source": [
        "clf.predict_proba(X_test.head(1))"
      ]
    },
    {
      "cell_type": "code",
      "execution_count": null,
      "id": "6438151d",
      "metadata": {
        "id": "6438151d",
        "outputId": "fb9dfe30-8985-40c5-adff-b6c4157792b8"
      },
      "outputs": [
        {
          "data": {
            "text/plain": [
              "0.9800000000000001"
            ]
          },
          "execution_count": 221,
          "metadata": {},
          "output_type": "execute_result"
        }
      ],
      "source": [
        "scores = cross_val_score(clf, X, y, cv=5)\n",
        "scores.mean()"
      ]
    },
    {
      "cell_type": "markdown",
      "id": "a6381cfc",
      "metadata": {
        "id": "a6381cfc"
      },
      "source": [
        "The Score Measures the accuracy of the MLPClassifier function"
      ]
    },
    {
      "cell_type": "code",
      "execution_count": null,
      "id": "3de8c617",
      "metadata": {
        "id": "3de8c617",
        "outputId": "454358c2-3895-4026-d59d-93437d2d31bb"
      },
      "outputs": [
        {
          "data": {
            "text/plain": [
              "0.9800000000000001"
            ]
          },
          "execution_count": 222,
          "metadata": {},
          "output_type": "execute_result"
        }
      ],
      "source": [
        "clf = MLPClassifier(max_iter=700, activation = 'tanh').fit(X_train, Y_train)\n",
        "scores = cross_val_score(clf, X, y, cv=5)\n",
        "scores.mean()"
      ]
    },
    {
      "cell_type": "code",
      "execution_count": null,
      "id": "3307c84e",
      "metadata": {
        "id": "3307c84e",
        "outputId": "65117b0c-4acf-447f-a46b-138a638db3e5"
      },
      "outputs": [
        {
          "data": {
            "text/plain": [
              "0.9733333333333334"
            ]
          },
          "execution_count": 215,
          "metadata": {},
          "output_type": "execute_result"
        }
      ],
      "source": [
        "clf = MLPClassifier(max_iter=1000, activation = 'logistic').fit(X_train, Y_train)\n",
        "scores = cross_val_score(clf, X, y, cv=5)\n",
        "scores.mean()"
      ]
    },
    {
      "cell_type": "markdown",
      "id": "2905176e",
      "metadata": {
        "id": "2905176e"
      },
      "source": [
        "Highest Accuracy I'm getting is approximately 98%, with relu and tanh, the mlp classifiers doesn't change, but with logistic it alterates between 96 and 98 Accuracy %"
      ]
    },
    {
      "cell_type": "markdown",
      "id": "cc176785",
      "metadata": {
        "id": "cc176785"
      },
      "source": [
        "# i. Use sklearn to 'train' a k-Neighbors Classifier\n",
        "# Note: KNN is a nonparametric model and technically doesn't require training\n",
        "# fit will essentially load the data into the model see link below for more information\n",
        "# https://stats.stackexchange.com/questions/349842/why-do-we-need-to-fit-a-k-nearest-neighbors-classifier\n",
        "\n",
        "# ii. For a sample datapoint, predict the probabilities for each possible class\n",
        "\n",
        "# iii. Report on the score for kNN, what does the score measure?"
      ]
    },
    {
      "cell_type": "code",
      "execution_count": null,
      "id": "d7a8144c",
      "metadata": {
        "id": "d7a8144c",
        "outputId": "9c06fe7b-f667-4bd6-fb2b-15d64750688c"
      },
      "outputs": [
        {
          "data": {
            "text/plain": [
              "KNeighborsClassifier(n_neighbors=3)"
            ]
          },
          "execution_count": 191,
          "metadata": {},
          "output_type": "execute_result"
        }
      ],
      "source": [
        "clf = KNeighborsClassifier(n_neighbors=3)\n",
        "clf.fit(X,y)"
      ]
    },
    {
      "cell_type": "markdown",
      "id": "eb156ec7",
      "metadata": {
        "id": "eb156ec7"
      },
      "source": [
        "Training KNN model"
      ]
    },
    {
      "cell_type": "code",
      "execution_count": null,
      "id": "ba503013",
      "metadata": {
        "id": "ba503013",
        "outputId": "874781ce-92d6-4b69-c1cc-988636b93dca"
      },
      "outputs": [
        {
          "data": {
            "text/plain": [
              "array([[0.        , 0.66666667, 0.33333333]])"
            ]
          },
          "execution_count": 193,
          "metadata": {},
          "output_type": "execute_result"
        }
      ],
      "source": [
        "clf.predict_proba(X_train.head(1))"
      ]
    },
    {
      "cell_type": "code",
      "execution_count": null,
      "id": "6a95f058",
      "metadata": {
        "id": "6a95f058",
        "outputId": "e8e55bff-df30-4e2b-bb39-02ecb3113ed8"
      },
      "outputs": [
        {
          "data": {
            "text/plain": [
              "0.9666666666666668"
            ]
          },
          "execution_count": 194,
          "metadata": {},
          "output_type": "execute_result"
        }
      ],
      "source": [
        "scores = cross_val_score(clf, X, y, cv=5)\n",
        "scores.mean()"
      ]
    },
    {
      "cell_type": "markdown",
      "id": "f0d7affa",
      "metadata": {
        "id": "f0d7affa"
      },
      "source": [
        "The Score Measures the accuracy of the kNN function"
      ]
    },
    {
      "cell_type": "markdown",
      "id": "4f244255",
      "metadata": {
        "id": "4f244255"
      },
      "source": [
        "# Conclusions and takeaways"
      ]
    },
    {
      "cell_type": "markdown",
      "id": "f82fdbd8",
      "metadata": {
        "id": "f82fdbd8"
      },
      "source": [
        "I'm still somewhat unsure if my scores are absolutely correct, since they still seem a little high, even with a low cv for cross validation. However they are much better results than when getting the scores from the test sets directly, which always gave me \"100%\" Accuracy, though I don't understand completely why. The one that gave me the highest accurracy was the neural network, which isn't too suprising considering how many parameters sklearn has for it. I did notice however, that it also took the longest time to get a result out of all the models."
      ]
    },
    {
      "cell_type": "code",
      "execution_count": null,
      "id": "58211370",
      "metadata": {
        "id": "58211370"
      },
      "outputs": [],
      "source": [
        ""
      ]
    }
  ],
  "metadata": {
    "kernelspec": {
      "display_name": "Python 3 (ipykernel)",
      "language": "python",
      "name": "python3"
    },
    "language_info": {
      "codemirror_mode": {
        "name": "ipython",
        "version": 3
      },
      "file_extension": ".py",
      "mimetype": "text/x-python",
      "name": "python",
      "nbconvert_exporter": "python",
      "pygments_lexer": "ipython3",
      "version": "3.10.2"
    },
    "colab": {
      "name": "Manjit_HW4.ipynb",
      "provenance": [],
      "include_colab_link": true
    }
  },
  "nbformat": 4,
  "nbformat_minor": 5
}