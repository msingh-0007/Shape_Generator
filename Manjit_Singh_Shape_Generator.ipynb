{
 "cells": [
  {
   "cell_type": "code",
   "execution_count": 57,
   "id": "296c4b1c",
   "metadata": {},
   "outputs": [
    {
     "name": "stdout",
     "output_type": "stream",
     "text": [
      "Input number of sides you want your shape to be, no less than 3\n",
      "4\n",
      "Continue ?\n",
      "No\n"
     ]
    }
   ],
   "source": [
    "import turtle #draws shape based on how many sides specified\n",
    "t = turtle.Turtle()\n",
    "s = turtle.Screen()\n",
    "q = False\n",
    "while q == False:\n",
    "    print(\"Input number of sides you want your shape to be, no less than 3\")\n",
    "    u = input()\n",
    "    u = int(u)\n",
    "    if u < 3:   #if input less than 2, ask again\n",
    "        continue\n",
    "    i = 0\n",
    "    while i < u:\n",
    "        t.forward(50)\n",
    "        s.delay(10)\n",
    "        t.right(180-180*(u-2)/u)\n",
    "        i = i + 1\n",
    "    print(\"Continue ?\")\n",
    "    user = input()\n",
    "    if user == \"No\": #End if user says no, otherwise reset and draw another shape\n",
    "       q = True\n",
    "    else:\n",
    "        t.reset()\n",
    "\n",
    "turtle.bye()\n",
    "    \n",
    "        \n",
    "\n",
    "\n",
    "\n"
   ]
  },
  {
   "cell_type": "code",
   "execution_count": 76,
   "id": "3a66081a",
   "metadata": {
    "scrolled": true
   },
   "outputs": [
    {
     "name": "stdout",
     "output_type": "stream",
     "text": [
      "Input number of sides you want your shape to be, no less than 5. If even your number is added by 1\n",
      "7\n",
      "Continue ?\n",
      "y\n",
      "Input number of sides you want your shape to be, no less than 5. If even your number is added by 1\n",
      "12\n",
      "Continue ?\n",
      "No\n"
     ]
    }
   ],
   "source": [
    "import turtle #Star Generator\n",
    "t = turtle.Turtle()\n",
    "s = turtle.Screen()\n",
    "q = False\n",
    "while q == False:\n",
    "    print(\"Input number of sides you want your shape to be, no less than 5. If even your number is added by 1\")\n",
    "    u = input()\n",
    "    u = int(u)\n",
    "    if u < 5:   #if input less than 5, ask again\n",
    "        continue\n",
    "    if u%2 == 0: #if even, add 1\n",
    "        u = u + 1\n",
    "    i = 0\n",
    "    while i < u:\n",
    "        t.forward(100)\n",
    "        s.delay(10)\n",
    "        t.right(180-180/u)\n",
    "        i = i + 1\n",
    "    print(\"Continue ?\")\n",
    "    user = input()\n",
    "    if user == \"No\": #End if user says no, otherwise reset and draw another shape\n",
    "       q = True\n",
    "    else:\n",
    "        t.reset()\n",
    "\n",
    "turtle.bye()\n",
    "    \n",
    "        \n",
    "\n",
    "\n",
    "\n"
   ]
  }
 ],
 "metadata": {
  "kernelspec": {
   "display_name": "Python 3 (ipykernel)",
   "language": "python",
   "name": "python3"
  },
  "language_info": {
   "codemirror_mode": {
    "name": "ipython",
    "version": 3
   },
   "file_extension": ".py",
   "mimetype": "text/x-python",
   "name": "python",
   "nbconvert_exporter": "python",
   "pygments_lexer": "ipython3",
   "version": "3.10.2"
  }
 },
 "nbformat": 4,
 "nbformat_minor": 5
}
