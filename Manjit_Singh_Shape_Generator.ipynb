{
  "cells": [
    {
      "cell_type": "markdown",
      "metadata": {
        "id": "view-in-github",
        "colab_type": "text"
      },
      "source": [
        "<a href=\"https://colab.research.google.com/github/msingh-0007/Shape_Generator/blob/main/Manjit_Singh_Shape_Generator.ipynb\" target=\"_parent\"><img src=\"https://colab.research.google.com/assets/colab-badge.svg\" alt=\"Open In Colab\"/></a>"
      ]
    },
    {
      "cell_type": "markdown",
      "id": "081507ba",
      "metadata": {
        "id": "081507ba"
      },
      "source": [
        "[![Open In Colab](https://colab.research.google.com/assets/colab-badge.svg)](https://colab.research.google.com/drive/1IBCmxKeF_igstDJwBLwL2GnduzMqRRtD#scrollTo=73033551)\n"
      ]
    },
    {
      "cell_type": "code",
      "execution_count": null,
      "id": "3509d2bc",
      "metadata": {
        "id": "3509d2bc",
        "outputId": "4ede267c-5ed1-46d2-b8a6-854809b614a9"
      },
      "outputs": [
        {
          "name": "stdout",
          "output_type": "stream",
          "text": [
            "Requirement already satisfied: ColabTurtle in c:\\users\\manjit\\appdata\\local\\programs\\python\\python310\\lib\\site-packages (2.1.0)\n"
          ]
        },
        {
          "name": "stderr",
          "output_type": "stream",
          "text": [
            "WARNING: You are using pip version 21.2.4; however, version 22.0.3 is available.\n",
            "You should consider upgrading via the 'C:\\Users\\Manjit\\AppData\\Local\\Programs\\Python\\Python310\\python.exe -m pip install --upgrade pip' command.\n"
          ]
        }
      ],
      "source": [
        "!pip install ColabTurtle"
      ]
    },
    {
      "cell_type": "markdown",
      "id": "9f076979",
      "metadata": {
        "id": "9f076979"
      },
      "source": [
        "*Note There are 2 versions of this code due to Google Collaborate not having the Turtle class, but rather CollabTurtle, which functions similarly, but has some notable differences. The ones using Turtle, have a white background, while CollabTurtle output has a black background when ran in google collaborate. I had to do this, since I initially started with turtle, but found out that it doesn't work in google collaborate*"
      ]
    },
    {
      "cell_type": "code",
      "execution_count": null,
      "id": "296c4b1c",
      "metadata": {
        "id": "296c4b1c",
        "outputId": "e91d9f4c-8b9e-4368-e40b-5232eff126d4"
      },
      "outputs": [
        {
          "name": "stdout",
          "output_type": "stream",
          "text": [
            "Input number of sides you want your shape to be, no less than 3\n",
            "5\n",
            "Continue ?\n",
            "y\n",
            "Input number of sides you want your shape to be, no less than 3\n",
            "7\n",
            "Continue ?\n",
            "No\n"
          ]
        }
      ],
      "source": [
        "import turtle #draws shape based on how many sides specified\n",
        "t = turtle.Turtle()\n",
        "s = turtle.Screen()\n",
        "q = False\n",
        "while q == False:\n",
        "    print(\"Input number of sides you want your shape to be, no less than 3\")\n",
        "    u = input()\n",
        "    u = int(u)\n",
        "    if u < 3:   #if input less than 2, ask again\n",
        "        continue\n",
        "    i = 0\n",
        "    while i < u:\n",
        "        t.forward(50)\n",
        "        s.delay(10)\n",
        "        t.right(180-180*(u-2)/u)\n",
        "        i = i + 1\n",
        "    print(\"Continue ?\")\n",
        "    user = input()\n",
        "    if user == \"No\": #End if user says no, otherwise reset and draw another shape\n",
        "       q = True\n",
        "    else:\n",
        "        t.reset()\n",
        "\n",
        "turtle.bye()\n",
        "    \n",
        "        \n",
        "\n",
        "\n",
        "\n"
      ]
    },
    {
      "cell_type": "code",
      "execution_count": null,
      "id": "747d0a7b",
      "metadata": {
        "id": "747d0a7b",
        "outputId": "69008c98-504d-41d8-93a6-df8ca85ec630"
      },
      "outputs": [
        {
          "data": {
            "text/html": [
              "\n",
              "      <svg width=\"800\" height=\"500\">\n",
              "        <rect width=\"100%\" height=\"100%\" fill=\"black\"/>\n",
              "        <line x1=\"400.0\" y1=\"250.0\" x2=\"400\" y2=\"250.0\" stroke-linecap=\"round\" style=\"stroke:white;stroke-width:4\"/><line x1=\"400\" y1=\"250.0\" x2=\"400\" y2=\"250\" stroke-linecap=\"round\" style=\"stroke:white;stroke-width:4\"/><line x1=\"400\" y1=\"250\" x2=\"400.0\" y2=\"200.0\" stroke-linecap=\"round\" style=\"stroke:white;stroke-width:4\"/><line x1=\"400.0\" y1=\"200.0\" x2=\"439.092\" y2=\"168.826\" stroke-linecap=\"round\" style=\"stroke:white;stroke-width:4\"/><line x1=\"439.092\" y1=\"168.826\" x2=\"487.838\" y2=\"179.952\" stroke-linecap=\"round\" style=\"stroke:white;stroke-width:4\"/><line x1=\"487.838\" y1=\"179.952\" x2=\"509.532\" y2=\"225.0\" stroke-linecap=\"round\" style=\"stroke:white;stroke-width:4\"/><line x1=\"509.532\" y1=\"225.0\" x2=\"487.838\" y2=\"270.048\" stroke-linecap=\"round\" style=\"stroke:white;stroke-width:4\"/><line x1=\"487.838\" y1=\"270.048\" x2=\"439.092\" y2=\"281.174\" stroke-linecap=\"round\" style=\"stroke:white;stroke-width:4\"/><line x1=\"439.092\" y1=\"281.174\" x2=\"400.0\" y2=\"250.0\" stroke-linecap=\"round\" style=\"stroke:white;stroke-width:4\"/>\n",
              "        <g visibility=visible transform=\"rotate(360.0,400.0,250.0) translate(382.0, 232.0)\">\n",
              "<path style=\" stroke:none;fill-rule:evenodd;fill:white;fill-opacity:1;\" d=\"M 18.214844 0.632812 C 16.109375 1.800781 15.011719 4.074219 15.074219 7.132812 L 15.085938 7.652344 L 14.785156 7.496094 C 13.476562 6.824219 11.957031 6.671875 10.40625 7.066406 C 8.46875 7.550781 6.515625 9.15625 4.394531 11.992188 C 3.0625 13.777344 2.679688 14.636719 3.042969 15.027344 L 3.15625 15.152344 L 3.519531 15.152344 C 4.238281 15.152344 4.828125 14.886719 8.1875 13.039062 C 9.386719 12.378906 10.371094 11.839844 10.378906 11.839844 C 10.386719 11.839844 10.355469 11.929688 10.304688 12.035156 C 9.832031 13.09375 9.257812 14.820312 8.96875 16.078125 C 7.914062 20.652344 8.617188 24.53125 11.070312 27.660156 C 11.351562 28.015625 11.363281 27.914062 10.972656 28.382812 C 8.925781 30.84375 7.945312 33.28125 8.238281 35.1875 C 8.289062 35.527344 8.28125 35.523438 8.917969 35.523438 C 10.941406 35.523438 13.074219 34.207031 15.136719 31.6875 C 15.359375 31.417969 15.328125 31.425781 15.5625 31.574219 C 16.292969 32.042969 18.023438 32.964844 18.175781 32.964844 C 18.335938 32.964844 19.941406 32.210938 20.828125 31.71875 C 20.996094 31.625 21.136719 31.554688 21.136719 31.558594 C 21.203125 31.664062 21.898438 32.414062 22.222656 32.730469 C 23.835938 34.300781 25.5625 35.132812 27.582031 35.300781 C 27.90625 35.328125 27.9375 35.308594 28.007812 34.984375 C 28.382812 33.242188 27.625 30.925781 25.863281 28.425781 L 25.542969 27.96875 L 25.699219 27.785156 C 28.945312 23.960938 29.132812 18.699219 26.257812 11.96875 L 26.207031 11.84375 L 27.945312 12.703125 C 31.53125 14.476562 32.316406 14.800781 33.03125 14.800781 C 33.976562 14.800781 33.78125 13.9375 32.472656 12.292969 C 28.519531 7.355469 25.394531 5.925781 21.921875 7.472656 L 21.558594 7.636719 L 21.578125 7.542969 C 21.699219 6.992188 21.761719 5.742188 21.699219 5.164062 C 21.496094 3.296875 20.664062 1.964844 19.003906 0.855469 C 18.480469 0.503906 18.457031 0.5 18.214844 0.632812\"/>\n",
              "</g>\n",
              "      </svg>\n",
              "    "
            ],
            "text/plain": [
              "<IPython.core.display.HTML object>"
            ]
          },
          "metadata": {},
          "output_type": "display_data"
        },
        {
          "name": "stdout",
          "output_type": "stream",
          "text": [
            "Input number of sides you want your shape to be, no less than 3\n",
            "5\n",
            "Continue ?\n",
            "y\n",
            "Input number of sides you want your shape to be, no less than 3\n",
            "7\n",
            "Continue ?\n",
            "No\n"
          ]
        }
      ],
      "source": [
        "from ColabTurtle.Turtle import *\n",
        "initializeTurtle() #draws shape based on how many sides specified\n",
        "x,y = position()\n",
        "q = False\n",
        "while q == False:\n",
        "    print(\"Input number of sides you want your shape to be, no less than 3\")\n",
        "    u = input()\n",
        "    u = int(u)\n",
        "    if u < 3:   #if input less than 2, ask again\n",
        "        continue\n",
        "    i = 0\n",
        "    while i < u:\n",
        "        forward(50)\n",
        "        right(180-180*(u-2)/u)\n",
        "        i = i + 1\n",
        "    print(\"Continue ?\")\n",
        "    user = input()\n",
        "    if user == \"No\": #End if user says no, otherwise reset and draw another shape\n",
        "       q = True\n",
        "    else:\n",
        "        clear()\n",
        "        setx(x)\n",
        "        sety(y)"
      ]
    },
    {
      "cell_type": "markdown",
      "id": "a5c10e8e",
      "metadata": {
        "id": "a5c10e8e"
      },
      "source": [
        "This part of the code generates basic shapes using turtle. Since no complete shapes with less than 2 sides (that aren't circles) exist, the user must enter 3 or more sides. *Note: For some weird reason, the turtle programs do not work on consecutive runs, meaning if you run once, then it doesn't work the second time you press run, but it does run the third time*\n",
        "\n",
        "   ![image.png](attachment:image.png)\n",
        "   ![image-2.png](attachment:image-2.png)"
      ]
    },
    {
      "cell_type": "code",
      "execution_count": null,
      "id": "3a66081a",
      "metadata": {
        "scrolled": true,
        "id": "3a66081a",
        "outputId": "44dc91d5-cb44-446f-9d1b-c6117f047f77"
      },
      "outputs": [
        {
          "name": "stdout",
          "output_type": "stream",
          "text": [
            "Input number of sides you want your shape to be, no less than 5. If even your number is added by 1\n",
            "5\n",
            "Continue ?\n",
            "y\n",
            "Input number of sides you want your shape to be, no less than 5. If even your number is added by 1\n",
            "9\n",
            "Continue ?\n",
            "y\n",
            "Input number of sides you want your shape to be, no less than 5. If even your number is added by 1\n",
            "15\n",
            "Continue ?\n",
            "No\n"
          ]
        }
      ],
      "source": [
        "import turtle #Star Generator\n",
        "t = turtle.Turtle()\n",
        "s = turtle.Screen()\n",
        "q = False\n",
        "while q == False:\n",
        "    print(\"Input number of sides you want your shape to be, no less than 5. If even your number is added by 1\")\n",
        "    u = input()\n",
        "    u = int(u)\n",
        "    if u < 5:   #if input less than 5, ask again\n",
        "        continue\n",
        "    if u%2 == 0: #if even, add 1\n",
        "        u = u + 1\n",
        "    i = 0\n",
        "    while i < u:\n",
        "        t.forward(100)\n",
        "        s.delay(10)\n",
        "        t.right(180-180/u)\n",
        "        i = i + 1\n",
        "    print(\"Continue ?\")\n",
        "    user = input()\n",
        "    if user == \"No\": #End if user says no, otherwise reset and draw another shape\n",
        "       q = True\n",
        "    else:\n",
        "        t.reset()\n",
        "\n",
        "turtle.bye()\n",
        "    \n",
        "        \n",
        "\n",
        "\n",
        "\n"
      ]
    },
    {
      "cell_type": "code",
      "execution_count": null,
      "id": "e3a3463e",
      "metadata": {
        "id": "e3a3463e",
        "outputId": "a4fd837b-542b-41d8-b145-886697f02b3a"
      },
      "outputs": [
        {
          "data": {
            "text/html": [
              "\n",
              "      <svg width=\"800\" height=\"500\">\n",
              "        <rect width=\"100%\" height=\"100%\" fill=\"black\"/>\n",
              "        <line x1=\"400.0\" y1=\"250.0\" x2=\"400\" y2=\"250.0\" stroke-linecap=\"round\" style=\"stroke:white;stroke-width:4\"/><line x1=\"400\" y1=\"250.0\" x2=\"400\" y2=\"250\" stroke-linecap=\"round\" style=\"stroke:white;stroke-width:4\"/><line x1=\"400\" y1=\"250\" x2=\"400.0\" y2=\"150.0\" stroke-linecap=\"round\" style=\"stroke:white;stroke-width:4\"/><line x1=\"400.0\" y1=\"150.0\" x2=\"443.388\" y2=\"240.097\" stroke-linecap=\"round\" style=\"stroke:white;stroke-width:4\"/><line x1=\"443.388\" y1=\"240.097\" x2=\"365.205\" y2=\"177.748\" stroke-linecap=\"round\" style=\"stroke:white;stroke-width:4\"/><line x1=\"365.205\" y1=\"177.748\" x2=\"462.698\" y2=\"200.0\" stroke-linecap=\"round\" style=\"stroke:white;stroke-width:4\"/><line x1=\"462.698\" y1=\"200.0\" x2=\"365.205\" y2=\"222.252\" stroke-linecap=\"round\" style=\"stroke:white;stroke-width:4\"/><line x1=\"365.205\" y1=\"222.252\" x2=\"443.388\" y2=\"159.903\" stroke-linecap=\"round\" style=\"stroke:white;stroke-width:4\"/><line x1=\"443.388\" y1=\"159.903\" x2=\"400.0\" y2=\"250.0\" stroke-linecap=\"round\" style=\"stroke:white;stroke-width:4\"/>\n",
              "        <g visibility=visible transform=\"rotate(359.99999999999994,400.0,250.0) translate(382.0, 232.0)\">\n",
              "<path style=\" stroke:none;fill-rule:evenodd;fill:white;fill-opacity:1;\" d=\"M 18.214844 0.632812 C 16.109375 1.800781 15.011719 4.074219 15.074219 7.132812 L 15.085938 7.652344 L 14.785156 7.496094 C 13.476562 6.824219 11.957031 6.671875 10.40625 7.066406 C 8.46875 7.550781 6.515625 9.15625 4.394531 11.992188 C 3.0625 13.777344 2.679688 14.636719 3.042969 15.027344 L 3.15625 15.152344 L 3.519531 15.152344 C 4.238281 15.152344 4.828125 14.886719 8.1875 13.039062 C 9.386719 12.378906 10.371094 11.839844 10.378906 11.839844 C 10.386719 11.839844 10.355469 11.929688 10.304688 12.035156 C 9.832031 13.09375 9.257812 14.820312 8.96875 16.078125 C 7.914062 20.652344 8.617188 24.53125 11.070312 27.660156 C 11.351562 28.015625 11.363281 27.914062 10.972656 28.382812 C 8.925781 30.84375 7.945312 33.28125 8.238281 35.1875 C 8.289062 35.527344 8.28125 35.523438 8.917969 35.523438 C 10.941406 35.523438 13.074219 34.207031 15.136719 31.6875 C 15.359375 31.417969 15.328125 31.425781 15.5625 31.574219 C 16.292969 32.042969 18.023438 32.964844 18.175781 32.964844 C 18.335938 32.964844 19.941406 32.210938 20.828125 31.71875 C 20.996094 31.625 21.136719 31.554688 21.136719 31.558594 C 21.203125 31.664062 21.898438 32.414062 22.222656 32.730469 C 23.835938 34.300781 25.5625 35.132812 27.582031 35.300781 C 27.90625 35.328125 27.9375 35.308594 28.007812 34.984375 C 28.382812 33.242188 27.625 30.925781 25.863281 28.425781 L 25.542969 27.96875 L 25.699219 27.785156 C 28.945312 23.960938 29.132812 18.699219 26.257812 11.96875 L 26.207031 11.84375 L 27.945312 12.703125 C 31.53125 14.476562 32.316406 14.800781 33.03125 14.800781 C 33.976562 14.800781 33.78125 13.9375 32.472656 12.292969 C 28.519531 7.355469 25.394531 5.925781 21.921875 7.472656 L 21.558594 7.636719 L 21.578125 7.542969 C 21.699219 6.992188 21.761719 5.742188 21.699219 5.164062 C 21.496094 3.296875 20.664062 1.964844 19.003906 0.855469 C 18.480469 0.503906 18.457031 0.5 18.214844 0.632812\"/>\n",
              "</g>\n",
              "      </svg>\n",
              "    "
            ],
            "text/plain": [
              "<IPython.core.display.HTML object>"
            ]
          },
          "metadata": {},
          "output_type": "display_data"
        },
        {
          "name": "stdout",
          "output_type": "stream",
          "text": [
            "Input number of sides you want your shape to be, no less than 5. If even your number is added by 1\n",
            "5\n",
            "Continue ?\n",
            "y\n",
            "Input number of sides you want your shape to be, no less than 5. If even your number is added by 1\n",
            "7\n",
            "Continue ?\n",
            "No\n"
          ]
        }
      ],
      "source": [
        "from ColabTurtle.Turtle import *\n",
        "initializeTurtle() #draws shape based on how many sides specified\n",
        "x,y = position()\n",
        "q = False\n",
        "while q == False:\n",
        "    print(\"Input number of sides you want your shape to be, no less than 5. If even your number is added by 1\")\n",
        "    u = input()\n",
        "    u = int(u)\n",
        "    if u < 5:   #if input less than 5, ask again\n",
        "        continue\n",
        "    if u%2 == 0: #if even, add 1\n",
        "        u = u + 1\n",
        "    i = 0\n",
        "    while i < u:\n",
        "        forward(100)\n",
        "        right(180-180/u)\n",
        "        i = i + 1\n",
        "    print(\"Continue ?\")\n",
        "    user = input()\n",
        "    if user == \"No\": #End if user says no, otherwise reset and draw another shape\n",
        "       q = True\n",
        "    else:\n",
        "        clear()\n",
        "        setx(x)\n",
        "        sety(y)\n"
      ]
    },
    {
      "cell_type": "markdown",
      "id": "26774645",
      "metadata": {
        "id": "26774645"
      },
      "source": [
        "This part of the code generates stars using turtle. Since the star generated is only complete when the input is odd, and 3 only generates a triangle, the amount of sides must be 5 or more sides of an odd number.\n",
        "\n",
        "  ![image.png](attachment:image.png)\n",
        "  ![image-2.png](attachment:image-2.png)\n",
        "  ![image-3.png](attachment:image-3.png)"
      ]
    }
  ],
  "metadata": {
    "kernelspec": {
      "display_name": "Python 3 (ipykernel)",
      "language": "python",
      "name": "python3"
    },
    "language_info": {
      "codemirror_mode": {
        "name": "ipython",
        "version": 3
      },
      "file_extension": ".py",
      "mimetype": "text/x-python",
      "name": "python",
      "nbconvert_exporter": "python",
      "pygments_lexer": "ipython3",
      "version": "3.10.2"
    },
    "colab": {
      "name": "Manjit_Singh_Shape_Generator.ipynb",
      "provenance": [],
      "collapsed_sections": [],
      "include_colab_link": true
    }
  },
  "nbformat": 4,
  "nbformat_minor": 5
}